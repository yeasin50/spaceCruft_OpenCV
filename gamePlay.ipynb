{
 "cells": [
  {
   "cell_type": "code",
   "execution_count": 1,
   "metadata": {},
   "outputs": [],
   "source": [
    "import cv2\n",
    "import numpy as np"
   ]
  },
  {
   "cell_type": "code",
   "execution_count": 2,
   "metadata": {},
   "outputs": [],
   "source": [
    "import overLay"
   ]
  },
  {
   "cell_type": "code",
   "execution_count": 13,
   "metadata": {},
   "outputs": [],
   "source": [
    "blueShip = cv2.imread(r'assets/blueShip.png', cv2.IMREAD_UNCHANGED)\n",
    "blueBullet = cv2.imread(r'assets/blueBullet.png', cv2.IMREAD_UNCHANGED)\n",
    "redShip = cv2.imread(r'assets/redShip.png', cv2.IMREAD_UNCHANGED)\n",
    "redBullet = cv2.imread(r'assets/redBullet.png', cv2.IMREAD_UNCHANGED)\n",
    "yellowShip = cv2.imread(r'assets/myShipF.png', cv2.IMREAD_UNCHANGED)\n",
    "yellowBullet = cv2.imread(r'assets/yellowBullet.png', cv2.IMREAD_UNCHANGED)"
   ]
  },
  {
   "cell_type": "code",
   "execution_count": 14,
   "metadata": {},
   "outputs": [],
   "source": [
    "class Bullet:\n",
    "    def __init__(self, x, y, bullet=blueBullet, radius =10):\n",
    "        self.x = x\n",
    "        self.y = y\n",
    "        self.bullet = bullet\n",
    "        self.radius = radius"
   ]
  },
  {
   "cell_type": "code",
   "execution_count": 15,
   "metadata": {},
   "outputs": [],
   "source": [
    "class Enemy:\n",
    "    def __init__(self, x, y, ship=blueShip, radius=25, bullets= []):\n",
    "        self.x = x\n",
    "        self.y = y\n",
    "        self.ship = blueShip\n",
    "        self.radius = radius\n",
    "        self.bullets = bullets\n",
    "        "
   ]
  },
  {
   "cell_type": "code",
   "execution_count": 16,
   "metadata": {},
   "outputs": [],
   "source": [
    "blue = (255, 0, 0)\n",
    "red = (0, 255, 0)\n",
    "green = ( 0, 255, 0)\n",
    "yellow = ( 255, 0, 255)\n",
    "\n",
    "font = cv2.FONT_HERSHEY_SIMPLEX\n",
    "thickness = 2\n",
    "\n",
    "image =  cv2.imread(r'testImages/tb13.jpg')"
   ]
  },
  {
   "cell_type": "markdown",
   "metadata": {},
   "source": [
    "Load Ships and bullets (PNG)"
   ]
  },
  {
   "cell_type": "code",
   "execution_count": 17,
   "metadata": {},
   "outputs": [],
   "source": [
    "import random\n",
    "height, width, ch = image.shape"
   ]
  },
  {
   "cell_type": "code",
   "execution_count": 18,
   "metadata": {},
   "outputs": [
    {
     "ename": "error",
     "evalue": "OpenCV(4.5.1) C:\\Users\\appveyor\\AppData\\Local\\Temp\\1\\pip-req-build-kh7iq4w7\\opencv\\modules\\core\\src\\arithm.cpp:250: error: (-215:Assertion failed) (mtype == CV_8U || mtype == CV_8S) && _mask.sameSize(*psrc1) in function 'cv::binary_op'\n",
     "output_type": "error",
     "traceback": [
      "\u001b[1;31m---------------------------------------------------------------------------\u001b[0m",
      "\u001b[1;31merror\u001b[0m                                     Traceback (most recent call last)",
      "\u001b[1;32m<ipython-input-18-9ac5c2683dd2>\u001b[0m in \u001b[0;36m<module>\u001b[1;34m\u001b[0m\n\u001b[0;32m     30\u001b[0m     \u001b[1;32mfor\u001b[0m \u001b[0menemy\u001b[0m \u001b[1;32min\u001b[0m \u001b[0menemies\u001b[0m\u001b[1;33m:\u001b[0m\u001b[1;33m\u001b[0m\u001b[1;33m\u001b[0m\u001b[0m\n\u001b[0;32m     31\u001b[0m \u001b[1;33m\u001b[0m\u001b[0m\n\u001b[1;32m---> 32\u001b[1;33m         \u001b[0moutPut\u001b[0m \u001b[1;33m=\u001b[0m \u001b[0moverLay\u001b[0m\u001b[1;33m.\u001b[0m\u001b[0moverlay_transparent\u001b[0m\u001b[1;33m(\u001b[0m\u001b[0moutPut\u001b[0m\u001b[1;33m,\u001b[0m \u001b[0menemy\u001b[0m\u001b[1;33m.\u001b[0m\u001b[0mship\u001b[0m\u001b[1;33m,\u001b[0m \u001b[0menemy\u001b[0m\u001b[1;33m.\u001b[0m\u001b[0mx\u001b[0m\u001b[1;33m,\u001b[0m \u001b[0menemy\u001b[0m\u001b[1;33m.\u001b[0m\u001b[0my\u001b[0m\u001b[1;33m)\u001b[0m\u001b[1;33m\u001b[0m\u001b[1;33m\u001b[0m\u001b[0m\n\u001b[0m\u001b[0;32m     33\u001b[0m \u001b[1;31m#         cv2.circle(outPut, (enemy.x, enemy.y),enemy.radius, blue, -1)\u001b[0m\u001b[1;33m\u001b[0m\u001b[1;33m\u001b[0m\u001b[1;33m\u001b[0m\u001b[0m\n\u001b[0;32m     34\u001b[0m         \u001b[0menemy\u001b[0m\u001b[1;33m.\u001b[0m\u001b[0my\u001b[0m\u001b[1;33m+=\u001b[0m\u001b[0menemyMoveRate\u001b[0m\u001b[1;33m\u001b[0m\u001b[1;33m\u001b[0m\u001b[0m\n",
      "\u001b[1;32mD:\\ML\\CustomCV\\spaceCruft\\overLay.py\u001b[0m in \u001b[0;36moverlay_transparent\u001b[1;34m(background_img, img_to_overlay_t, x, y)\u001b[0m\n\u001b[0;32m     31\u001b[0m \u001b[1;33m\u001b[0m\u001b[0m\n\u001b[0;32m     32\u001b[0m     \u001b[1;31m# Black-out the area behind the logo in our original ROI\u001b[0m\u001b[1;33m\u001b[0m\u001b[1;33m\u001b[0m\u001b[1;33m\u001b[0m\u001b[0m\n\u001b[1;32m---> 33\u001b[1;33m     \u001b[0mimg1_bg\u001b[0m \u001b[1;33m=\u001b[0m \u001b[0mcv2\u001b[0m\u001b[1;33m.\u001b[0m\u001b[0mbitwise_and\u001b[0m\u001b[1;33m(\u001b[0m\u001b[0mroi\u001b[0m\u001b[1;33m.\u001b[0m\u001b[0mcopy\u001b[0m\u001b[1;33m(\u001b[0m\u001b[1;33m)\u001b[0m\u001b[1;33m,\u001b[0m\u001b[0mroi\u001b[0m\u001b[1;33m.\u001b[0m\u001b[0mcopy\u001b[0m\u001b[1;33m(\u001b[0m\u001b[1;33m)\u001b[0m\u001b[1;33m,\u001b[0m\u001b[0mmask\u001b[0m \u001b[1;33m=\u001b[0m \u001b[0mcv2\u001b[0m\u001b[1;33m.\u001b[0m\u001b[0mbitwise_not\u001b[0m\u001b[1;33m(\u001b[0m\u001b[0mmask\u001b[0m\u001b[1;33m)\u001b[0m\u001b[1;33m)\u001b[0m\u001b[1;33m\u001b[0m\u001b[1;33m\u001b[0m\u001b[0m\n\u001b[0m\u001b[0;32m     34\u001b[0m \u001b[1;33m\u001b[0m\u001b[0m\n\u001b[0;32m     35\u001b[0m     \u001b[1;31m# Mask out the logo from the logo image.\u001b[0m\u001b[1;33m\u001b[0m\u001b[1;33m\u001b[0m\u001b[1;33m\u001b[0m\u001b[0m\n",
      "\u001b[1;31merror\u001b[0m: OpenCV(4.5.1) C:\\Users\\appveyor\\AppData\\Local\\Temp\\1\\pip-req-build-kh7iq4w7\\opencv\\modules\\core\\src\\arithm.cpp:250: error: (-215:Assertion failed) (mtype == CV_8U || mtype == CV_8S) && _mask.sameSize(*psrc1) in function 'cv::binary_op'\n"
     ]
    }
   ],
   "source": [
    "outPut = image.copy()\n",
    "\n",
    "enemies = []\n",
    "\n",
    "e = Enemy(100, 50)\n",
    "enemies.append(e)\n",
    "\n",
    "delay = 50\n",
    "enemyMoveRate = 1\n",
    "bulletMoveRate=5\n",
    "fireRate = 4\n",
    "\n",
    "totalFrame = 0\n",
    "\n",
    "\n",
    "# scores\n",
    "score = 0\n",
    "lives = 4\n",
    "\n",
    "\n",
    "while True:\n",
    "     #create enemy at random position\n",
    "    if(totalFrame%delay==4):\n",
    "        x = random.randrange(20, width-20)\n",
    "        y = random.randrange(-300, -30)\n",
    "        enemies.append(Enemy(x, y))\n",
    "        \n",
    "    \n",
    "    #move Enemy\n",
    "    for enemy in enemies:\n",
    "        \n",
    "        outPut = overLay.overlay_transparent(outPut, enemy.ship, enemy.x, enemy.y)\n",
    "#         cv2.circle(outPut, (enemy.x, enemy.y),enemy.radius, blue, -1)\n",
    "        enemy.y+=enemyMoveRate\n",
    "        \n",
    "           # add bullet\n",
    "        if(totalFrame%delay==0 and enemy.y> enemy.radius):\n",
    "            enemy.bullets.append(Bullet(enemy.x, enemy.y))\n",
    "\n",
    "        #bullet throw\n",
    "        for b in enemy.bullets:\n",
    "            cv2.circle(outPut, (b.x, b.y), b.radius, red, -1)\n",
    "            b.y+=bulletMoveRate\n",
    "            \n",
    "            #cleanUp\n",
    "            if b.y>height:\n",
    "                enemy.bullets.remove(b)\n",
    "            \n",
    "            \n",
    "        #cleanUp\n",
    "        if enemy.y> height:\n",
    "            enemies.remove(enemy)\n",
    "            lives-=1\n",
    "            \n",
    "            \n",
    "        \n",
    "    ## header\n",
    "    #score\n",
    "    cv2.putText(image, 'Score '+str(score), (50, 50), font, \n",
    "                   1, yellow, 1, cv2.LINE_AA)\n",
    "    #live\n",
    "    cv2.putText(image, 'Live '+str(lives), (width-150, 50), font, \n",
    "                   1, yellow, 1, cv2.LINE_AA)\n",
    "    \n",
    "            \n",
    "        \n",
    "    \n",
    "    cv2.imshow(\"im\", outPut)\n",
    "    \n",
    "    key = cv2.waitKey(delay) & 0xFF\n",
    "    if key == ord(\"q\"):\n",
    "        break\n",
    "    totalFrame+=1\n",
    "    outPut = image.copy() # easy way to clear 😁\n",
    "    \n",
    "cv2.destroyAllWindows()"
   ]
  },
  {
   "cell_type": "markdown",
   "metadata": {},
   "source": [
    "Test overLay"
   ]
  },
  {
   "cell_type": "code",
   "execution_count": 6,
   "metadata": {},
   "outputs": [],
   "source": [
    "background = cv2.imread(r'testImages/tb1.jpg', cv2.IMREAD_UNCHANGED)\n",
    "# image = cv2.cvtColor(image, cv2.COLOR_BGR2BGRA, cv2.IMREAD_UNCHANGED)\n",
    "foreground = cv2.imread(r'assets/badge.png', cv2.IMREAD_UNCHANGED)\n",
    "foreground = cv2.resize(foreground, (40, 40))\n",
    "\n",
    "background = overLay.overlay_transparent(background, foreground, 100, 100)\n",
    "\n",
    "cv2.imshow(\"Composited image\", background)\n",
    "cv2.waitKey(0)\n",
    "\n",
    "cv2.destroyAllWindows()"
   ]
  },
  {
   "cell_type": "code",
   "execution_count": null,
   "metadata": {},
   "outputs": [],
   "source": []
  }
 ],
 "metadata": {
  "kernelspec": {
   "display_name": "Python 3",
   "language": "python",
   "name": "python3"
  },
  "language_info": {
   "codemirror_mode": {
    "name": "ipython",
    "version": 3
   },
   "file_extension": ".py",
   "mimetype": "text/x-python",
   "name": "python",
   "nbconvert_exporter": "python",
   "pygments_lexer": "ipython3",
   "version": "3.8.5"
  }
 },
 "nbformat": 4,
 "nbformat_minor": 4
}
