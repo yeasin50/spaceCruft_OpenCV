{
 "cells": [
  {
   "cell_type": "code",
   "execution_count": 2,
   "metadata": {},
   "outputs": [],
   "source": [
    "import cv2\n",
    "import numpy as np"
   ]
  },
  {
   "cell_type": "code",
   "execution_count": 3,
   "metadata": {},
   "outputs": [],
   "source": [
    "class Bullet:\n",
    "    def __init__(self, x, y, radius =10):\n",
    "        self.x = x\n",
    "        self.y = y\n",
    "        self.radius = radius"
   ]
  },
  {
   "cell_type": "code",
   "execution_count": 4,
   "metadata": {},
   "outputs": [],
   "source": [
    "class Enemy:\n",
    "    def __init__(self, x, y, radius=25, bullets= []):\n",
    "        self.x = x\n",
    "        self.y = y\n",
    "        self.radius = radius\n",
    "        self.bullets = bullets\n",
    "        "
   ]
  },
  {
   "cell_type": "code",
   "execution_count": 5,
   "metadata": {},
   "outputs": [],
   "source": [
    "blue = (255, 0, 0)\n",
    "red = (0, 255, 0)\n",
    "image =  cv2.imread(r'testImages/tb13.jpg')"
   ]
  },
  {
   "cell_type": "code",
   "execution_count": 6,
   "metadata": {},
   "outputs": [],
   "source": [
    "import random\n",
    "height, width, ch = image.shape"
   ]
  },
  {
   "cell_type": "code",
   "execution_count": 13,
   "metadata": {},
   "outputs": [],
   "source": [
    "outPut = image.copy()\n",
    "\n",
    "enemies = []\n",
    "\n",
    "e = Enemy(100, 50)\n",
    "enemies.append(e)\n",
    "\n",
    "delay = 50\n",
    "enemyMoveRate = 1\n",
    "bulletMoveRate=5\n",
    "fireRate = 4\n",
    "\n",
    "totalFrame = 0\n",
    "\n",
    "while True:\n",
    "    \n",
    "     #create enemy at random position\n",
    "    if(totalFrame%delay==4):\n",
    "        x = random.randrange(20, width-20)\n",
    "        y = random.randrange(-300, -30)\n",
    "        enemies.append(Enemy(x, y))\n",
    "        \n",
    "    \n",
    "    #move Enemy\n",
    "    for enemy in enemies:\n",
    "        cv2.circle(outPut, (enemy.x, enemy.y),enemy.radius, blue, -1)\n",
    "        enemy.y+=enemyMoveRate\n",
    "        \n",
    "           # add bullet\n",
    "        if(totalFrame%delay==0 and enemy.y> enemy.radius):\n",
    "            enemy.bullets.append(Bullet(enemy.x, enemy.y))\n",
    "\n",
    "        #bullet throw\n",
    "        for b in enemy.bullets:\n",
    "            cv2.circle(outPut, (b.x, b.y), b.radius, red, -1)\n",
    "            b.y+=bulletMoveRate\n",
    "            \n",
    "            #cleanUp\n",
    "            if b.y>height:\n",
    "                enemy.bullets.remove(b)\n",
    "            \n",
    "            \n",
    "        #cleanUp\n",
    "        if enemy.y> height:\n",
    "            enemies.remove(enemy)\n",
    "            \n",
    "        \n",
    "    \n",
    "    cv2.imshow(\"im\", outPut)\n",
    "    \n",
    "    key = cv2.waitKey(delay) & 0xFF\n",
    "    if key == ord(\"q\"):\n",
    "        break\n",
    "    totalFrame+=1\n",
    "    outPut = image.copy() # easy way to clear 😁\n",
    "    \n",
    "cv2.destroyAllWindows()"
   ]
  },
  {
   "cell_type": "code",
   "execution_count": null,
   "metadata": {},
   "outputs": [],
   "source": []
  }
 ],
 "metadata": {
  "kernelspec": {
   "display_name": "Python 3",
   "language": "python",
   "name": "python3"
  },
  "language_info": {
   "codemirror_mode": {
    "name": "ipython",
    "version": 3
   },
   "file_extension": ".py",
   "mimetype": "text/x-python",
   "name": "python",
   "nbconvert_exporter": "python",
   "pygments_lexer": "ipython3",
   "version": "3.8.5"
  }
 },
 "nbformat": 4,
 "nbformat_minor": 4
}
