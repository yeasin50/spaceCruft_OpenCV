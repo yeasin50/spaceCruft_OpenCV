{
 "cells": [
  {
   "cell_type": "markdown",
   "metadata": {},
   "source": [
    "### <center> Test method here"
   ]
  },
  {
   "cell_type": "markdown",
   "metadata": {},
   "source": [
    "### mobile Detect=> \n",
    "    - lower [ 19, 0, 11]\n",
    "    - upper [ 152, 255, 255]\n",
    "### lightColor => \n",
    "    - lower [ 0, 0, 204]\n",
    "    - upper [ 95, 255, 255]"
   ]
  },
  {
   "cell_type": "code",
   "execution_count": 4,
   "metadata": {},
   "outputs": [],
   "source": [
    "import cv2\n",
    "import numpy as np"
   ]
  },
  {
   "cell_type": "code",
   "execution_count": 31,
   "metadata": {},
   "outputs": [],
   "source": [
    "\n",
    "def findColor(img, myColors):\n",
    "    imgHSV = cv2.cvtColor(img, cv2.COLOR_BGR2HSV)\n",
    "    \n",
    "    for color in myColors:\n",
    "        lower = np.array(color[0:3])\n",
    "        upper = np.array(color[3:6])\n",
    "        mask = cv2.inRange(imgHSV, lower, upper)\n",
    "        x, y= getContours(mask)\n",
    "        cv2.circle(outPut, (x, y), 14, (255,0,233), cv2.FILLED)\n",
    "        cv2.imshow(\"img\"+str(color[2]), mask)"
   ]
  },
  {
   "cell_type": "code",
   "execution_count": 32,
   "metadata": {},
   "outputs": [],
   "source": [
    "def getContours(img):\n",
    "    contours , hierarchy = cv2.findContours(img, cv2.RETR_EXTERNAL, cv2.CHAIN_APPROX_NONE)\n",
    "    x, y, w, h = 0,0,0,0\n",
    "    for contour in contours:\n",
    "        area = cv2.contourArea(contour)\n",
    "        print(area)\n",
    "        # mobile area on test img 429335.5\n",
    "        # light on area on test img 2409.0\n",
    "        \n",
    "        if area> 500 and area< 529335:\n",
    "            cv2.drawContours(outPut, contour, -1, (233,33,0),4)\n",
    "            peri = cv2.arcLength(contour, True)\n",
    "            approx = cv2.approxPolyDP(contour, 0.02*peri, True)\n",
    "            x, y, w, h = cv2.boundingRect(approx)\n",
    "    \n",
    "    return x+w//2 , y"
   ]
  },
  {
   "cell_type": "code",
   "execution_count": 41,
   "metadata": {},
   "outputs": [],
   "source": [
    "myColors = [\n",
    "#     [19, 0, 11, 152, 255, 255],\n",
    "    [ 0, 0, 204, 95, 255, 255]\n",
    "           ]\n",
    "#having problem with mobile# black color , rect at border=>frame"
   ]
  },
  {
   "cell_type": "code",
   "execution_count": 42,
   "metadata": {},
   "outputs": [
    {
     "name": "stdout",
     "output_type": "stream",
     "text": [
      "1570.5\n",
      "0.0\n",
      "0.0\n"
     ]
    }
   ],
   "source": [
    "image =  cv2.imread(r'testImages/tb13.jpg')\n",
    "outPut = image.copy()\n",
    "findColor(image, myColors)\n",
    "cv2.imshow(\"im\", outPut)\n",
    "cv2.waitKey(0)\n",
    "cv2.destroyAllWindows()"
   ]
  },
  {
   "cell_type": "code",
   "execution_count": null,
   "metadata": {},
   "outputs": [],
   "source": []
  }
 ],
 "metadata": {
  "kernelspec": {
   "display_name": "Python 3",
   "language": "python",
   "name": "python3"
  },
  "language_info": {
   "codemirror_mode": {
    "name": "ipython",
    "version": 3
   },
   "file_extension": ".py",
   "mimetype": "text/x-python",
   "name": "python",
   "nbconvert_exporter": "python",
   "pygments_lexer": "ipython3",
   "version": "3.8.5"
  }
 },
 "nbformat": 4,
 "nbformat_minor": 4
}
